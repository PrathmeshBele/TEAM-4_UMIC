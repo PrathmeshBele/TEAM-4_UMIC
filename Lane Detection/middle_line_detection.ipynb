{
  "nbformat": 4,
  "nbformat_minor": 0,
  "metadata": {
    "colab": {
      "name": "lane_detection.ipynb",
      "provenance": []
    },
    "kernelspec": {
      "name": "python3",
      "display_name": "Python 3"
    }
  },
  "cells": [
    {
      "cell_type": "code",
      "metadata": {
        "id": "uZjOpt40aZfW",
        "colab_type": "code",
        "colab": {}
      },
      "source": [
        " import matplotlib.pyplot as plt\n",
        " import cv2\n",
        " import numpy as np\n",
        " from google.colab.patches import cv2_imshow"
      ],
      "execution_count": null,
      "outputs": []
    },
    {
      "cell_type": "code",
      "metadata": {
        "id": "lM8U0cqmVKVi",
        "colab_type": "code",
        "colab": {}
      },
      "source": [
        "img=cv2.imread('road.png')"
      ],
      "execution_count": null,
      "outputs": []
    },
    {
      "cell_type": "code",
      "metadata": {
        "id": "D8p9mptJWJ4X",
        "colab_type": "code",
        "colab": {}
      },
      "source": [
        "img = cv2.resize(img, (400, 400)) "
      ],
      "execution_count": null,
      "outputs": []
    },
    {
      "cell_type": "code",
      "metadata": {
        "id": "TUjzjRiLVN0z",
        "colab_type": "code",
        "colab": {}
      },
      "source": [
        "color_boundaries = [ # colors can be changed\n",
        "\t#([17, 15, 100], [90, 96, 255]), #red\n",
        "\t#([20, 90, 4], [90, 255, 100]), #green\n",
        "\t([50, 100, 100], [100, 200, 200]) # yellow\n",
        "]"
      ],
      "execution_count": null,
      "outputs": []
    },
    {
      "cell_type": "code",
      "metadata": {
        "id": "wB-nm4lbuKxV",
        "colab_type": "code",
        "colab": {}
      },
      "source": [
        "masks=[]\n",
        "for (lower,upper) in color_boundaries:\n",
        "  \n",
        "  lower=np.array(lower,dtype='uint8')\n",
        "  upper=np.array(upper,dtype='uint8')\n",
        "  mask=cv2.inRange(img,lower,upper)\n",
        "   \n",
        "  output=cv2.bitwise_and(img,img,mask=mask)\n",
        "  masks.append(output)\n",
        "  #cv2_imshow(np.hstack([img,output]))\n",
        "  cv2.waitKey(0)"
      ],
      "execution_count": null,
      "outputs": []
    },
    {
      "cell_type": "code",
      "metadata": {
        "id": "kZmmDfvuwVsF",
        "colab_type": "code",
        "colab": {}
      },
      "source": [
        "segment=masks[0] #+masks[1]+masks[2]"
      ],
      "execution_count": null,
      "outputs": []
    },
    {
      "cell_type": "code",
      "metadata": {
        "id": "iJAxwXKCw09s",
        "colab_type": "code",
        "colab": {}
      },
      "source": [
        "gray=cv2.cvtColor(segment,cv2.COLOR_BGR2GRAY)"
      ],
      "execution_count": null,
      "outputs": []
    },
    {
      "cell_type": "code",
      "metadata": {
        "id": "KwT2ZJCszEvK",
        "colab_type": "code",
        "colab": {}
      },
      "source": [
        "kernel = np.ones((5,5), np.uint)\n",
        "gray=cv2.erode(gray, kernel, iterations=1) "
      ],
      "execution_count": null,
      "outputs": []
    },
    {
      "cell_type": "code",
      "metadata": {
        "id": "JkRv51XHyKo8",
        "colab_type": "code",
        "colab": {}
      },
      "source": [
        "ret,thresh1 = cv2.threshold(gray,10,255,cv2.THRESH_BINARY)"
      ],
      "execution_count": null,
      "outputs": []
    },
    {
      "cell_type": "code",
      "metadata": {
        "id": "ztBS2MRjzAXF",
        "colab_type": "code",
        "colab": {}
      },
      "source": [
        "lane = cv2.Canny(thresh1,100,200)"
      ],
      "execution_count": null,
      "outputs": []
    },
    {
      "cell_type": "code",
      "metadata": {
        "id": "58-rfVQv9qMn",
        "colab_type": "code",
        "colab": {}
      },
      "source": [
        "def calculate_lines(frame, lines):\n",
        "  \n",
        "    # Empty arrays to store the coordinates of the left and right lines\n",
        "    left = []\n",
        "    right = []\n",
        "    # Loops through every detected line\n",
        "    for line in lines:\n",
        "        # Reshapes line from 2D array to 1D array\n",
        "        x1, y1, x2, y2 = line.reshape(4)\n",
        "        # Fits a linear polynomial to the x and y coordinates and returns a vector of coefficients which describe the slope and y-intercept\n",
        "        parameters = np.polyfit((x1, x2), (y1, y2), 1)\n",
        "        slope = parameters[0]\n",
        "        y_intercept = parameters[1]\n",
        "        # If slope is negative, the line is to the left of the lane, and otherwise, the line is to the right of the lane\n",
        "        #if slope < 0:\n",
        "           # left.append((slope, y_intercept))\n",
        "        #else:\n",
        "            #right.append((slope, y_intercept))\n",
        "        left.append((slope,y_intercept))\n",
        "    # Averages out all the values for left and right into a single slope and y-intercept value for each line\n",
        "    left_avg = np.average(left, axis = 0)\n",
        "    #right_avg = np.average(right, axis = 0)\n",
        "    # Calculates the x1, y1, x2, y2 coordinates for the left and right lines\n",
        "    left_line = calculate_coordinates(frame, left_avg)\n",
        "    #right_line = calculate_coordinates(frame, right_avg)\n",
        "    return np.array([left_line])\n",
        "\n",
        "def calculate_coordinates(frame, parameters):\n",
        "    slope, intercept = parameters\n",
        "    # Sets initial y-coordinate as height from top down (bottom of the frame)\n",
        "    y1 = frame.shape[0]\n",
        "    # Sets final y-coordinate as 150 above the bottom of the frame\n",
        "    y2 = int(y1 -200)#- 150)\n",
        "    # Sets initial x-coordinate as (y1 - b) / m since y1 = mx1 + b\n",
        "    x1 = int((y1 - intercept) / slope)\n",
        "    # Sets final x-coordinate as (y2 - b) / m since y2 = mx2 + b\n",
        "    x2 = int((y2 - intercept) / slope)\n",
        "    return np.array([x1, y1, x2, y2])\n",
        "def visualize_lines(frame, lines):\n",
        "    # Creates an image filled with zero intensities with the same dimensions as the frame\n",
        "    lines_visualize = np.zeros_like(frame)\n",
        "    # Checks if any lines are detected\n",
        "    if lines is not None:\n",
        "        #m=np.zeros(4)\n",
        "        for x1, y1, x2, y2 in lines:\n",
        "            #m=[x1,y1,x2,y2]+m\n",
        "            # Draws lines between two coordinates with green color and 5 thickness\n",
        "            cv2.line(lines_visualize, (x1, y1), (x2, y2), (0, 255, 0), 5)\n",
        "            \n",
        "        #m=m/2\n",
        "        #cv2.line(lines_visualize, (int(m[0]), int(m[1])), (int(m[2]), int(m[3])), (0, 255, 255), 5)\n",
        "\n",
        "    return lines_visualize\n"
      ],
      "execution_count": null,
      "outputs": []
    },
    {
      "cell_type": "code",
      "metadata": {
        "id": "ZUEhr2RUNCYk",
        "colab_type": "code",
        "colab": {}
      },
      "source": [
        "hough = cv2.HoughLinesP(lane, 2, np.pi / 180, 100, np.array([]), minLineLength = 50, maxLineGap = 50)"
      ],
      "execution_count": null,
      "outputs": []
    },
    {
      "cell_type": "code",
      "metadata": {
        "id": "t20l-uYPNIFa",
        "colab_type": "code",
        "colab": {}
      },
      "source": [
        "lines = calculate_lines(img, hough)"
      ],
      "execution_count": null,
      "outputs": []
    },
    {
      "cell_type": "code",
      "metadata": {
        "id": "0NzVk235NjyC",
        "colab_type": "code",
        "colab": {}
      },
      "source": [
        "lines_visualize = visualize_lines(img, lines)"
      ],
      "execution_count": null,
      "outputs": []
    },
    {
      "cell_type": "code",
      "metadata": {
        "id": "DRAiIifwN2w3",
        "colab_type": "code",
        "colab": {
          "base_uri": "https://localhost:8080/",
          "height": 417
        },
        "outputId": "f698e9cf-84af-4134-bc74-e917da57eff2"
      },
      "source": [
        "cv2_imshow(lines_visualize)"
      ],
      "execution_count": null,
      "outputs": [
        {
          "output_type": "display_data",
          "data": {
            "image/png": "[encoded data removed]",
            "text/plain": [
              "<PIL.Image.Image image mode=RGB size=400x400 at 0x7FD5FB81AD30>"
            ]
          },
          "metadata": {
            "tags": []
          }
        }
      ]
    },
    {
      "cell_type": "code",
      "metadata": {
        "id": "QX7ZMi5_ODde",
        "colab_type": "code",
        "colab": {
          "base_uri": "https://localhost:8080/",
          "height": 34
        },
        "outputId": "e5428811-823e-438e-8cc3-a3334139cfc7"
      },
      "source": [
        "print(lines[0])\n"
      ],
      "execution_count": null,
      "outputs": [
        {
          "output_type": "stream",
          "text": [
            "[132 400 194 200]\n"
          ],
          "name": "stdout"
        }
      ]
    },
    {
      "cell_type": "code",
      "metadata": {
        "id": "XxCSw7GORJa5",
        "colab_type": "code",
        "colab": {
          "base_uri": "https://localhost:8080/",
          "height": 417
        },
        "outputId": "d3ef69b9-d5b4-4461-c8d4-238c87634db0"
      },
      "source": [
        "cv2_imshow(lines_visualize+segment)"
      ],
      "execution_count": null,
      "outputs": [
        {
          "output_type": "display_data",
          "data": {
            "image/png": "[encoded data removed]",
            "text/plain": [
              "<PIL.Image.Image image mode=RGB size=400x400 at 0x7FD5FB81A5C0>"
            ]
          },
          "metadata": {
            "tags": []
          }
        }
      ]
    },
    {
      "cell_type": "code",
      "metadata": {
        "id": "2Ew5eBvqVAxg",
        "colab_type": "code",
        "colab": {
          "base_uri": "https://localhost:8080/",
          "height": 104
        },
        "outputId": "7ccce367-74dc-412a-ab89-2ec1d4969430"
      },
      "source": [
        "hough"
      ],
      "execution_count": null,
      "outputs": [
        {
          "output_type": "execute_result",
          "data": {
            "text/plain": [
              "array([[[109, 396, 158, 273]],\n",
              "\n",
              "       [[102, 389, 159, 273]],\n",
              "\n",
              "       [[163, 381, 185, 266]]], dtype=int32)"
            ]
          },
          "metadata": {
            "tags": []
          },
          "execution_count": 384
        }
      ]
    },
    {
      "cell_type": "code",
      "metadata": {
        "id": "FTIStA3BXovN",
        "colab_type": "code",
        "colab": {}
      },
      "source": [
        ""
      ],
      "execution_count": null,
      "outputs": []
    }
  ]
}